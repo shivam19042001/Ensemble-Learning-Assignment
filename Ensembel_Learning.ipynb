{
  "cells": [
    {
      "cell_type": "markdown",
      "source": [
        "#Theoretical"
      ],
      "metadata": {
        "id": "GDobjR3iJ_ku"
      }
    },
    {
      "cell_type": "markdown",
      "source": [
        "1.Can we use Bagging for regression problems"
      ],
      "metadata": {
        "id": "w6c71DR3InAH"
      }
    },
    {
      "cell_type": "code",
      "source": [
        "\"\"\"\n",
        "Bagging (short for Bootstrap Aggregating) can be used with regression models—called Bagging Regressors.\n",
        "Instead of letting one model make all the predictions, bagging builds multiple models on random samples of\n",
        "the data, then averages their outputs for the final result\n",
        "\"\"\""
      ],
      "metadata": {
        "id": "_gZArvvRLbwp"
      },
      "execution_count": null,
      "outputs": []
    },
    {
      "cell_type": "markdown",
      "source": [
        "2.What is the difference between multiple model training and single model training"
      ],
      "metadata": {
        "id": "Ptko3FdMIm6h"
      }
    },
    {
      "cell_type": "code",
      "source": [
        "\"\"\"\n",
        "Multiple‑Model Training (Ensemble Learning):\n",
        "-You train several models—either of the same type (like decision trees) or different types (like combining trees\n",
        " and neural networks). Once trained, you combine their outputs—such as by averaging for regression or voting for\n",
        " classification—to get a final prediction.\n",
        "-This method boosts accuracy, reduces variance, and makes the model more robust than relying on any single one.\n",
        "\n",
        "Single‑Model Training:\n",
        "-You train just one model (e.g., a single decision tree or neural net) on your entire dataset. That model alone handles making predictions.\n",
        "-This approach is simpler and faster to train and deploy, but it might suffer from overfitting or underfitting, and it’s often less reliable in complex or noisy scenarios.\n",
        "\"\"\""
      ],
      "metadata": {
        "id": "EAMGJtifLcBe"
      },
      "execution_count": null,
      "outputs": []
    },
    {
      "cell_type": "markdown",
      "source": [
        "3.Explain the concept of feature randomness in Random Forest\n"
      ],
      "metadata": {
        "id": "K52QfryNIm4h"
      }
    },
    {
      "cell_type": "code",
      "source": [
        "\"\"\"\n",
        "Random Forest selects a random subset of features at each split in a decision tree.\n",
        "\n",
        "Why this matters:\n",
        "\n",
        "-It forces trees to use different combinations of features, making them more varied.\n",
        "\n",
        "-That variety means the trees aren’t all looking at the same strong predictors.\n",
        "\n",
        "-When you combine their predictions, the result is less overfitting, more generalization, and better accuracy overall.\n",
        "\"\"\""
      ],
      "metadata": {
        "id": "WzNTxDZ4LcYL"
      },
      "execution_count": null,
      "outputs": []
    },
    {
      "cell_type": "markdown",
      "source": [
        "4.What is OOB (Out-of-Bag) Score"
      ],
      "metadata": {
        "id": "cIEhh3CkIm13"
      }
    },
    {
      "cell_type": "code",
      "source": [
        "\"\"\"\n",
        "-Out-of-Bag (OOB) Score estimates how well the model performs using data not included in each bootstrap sample.\n",
        "\n",
        "-When creating each bootstrap dataset (used to train a model), some original data points are left out—these are the OOB samples.\n",
        "\n",
        "-Since Bagging trains many models on different random subsets, these left-out samples act like a built-in\n",
        " validation set—no need for a separate test set.\n",
        "\n",
        "-After training, the model is tested on its own OOB data. Aggregating these results across all models gives\n",
        " the final OOB Score, which reflects performance on unseen data.\n",
        "\"\"\""
      ],
      "metadata": {
        "id": "6mUVLlPOLczI"
      },
      "execution_count": null,
      "outputs": []
    },
    {
      "cell_type": "markdown",
      "source": [
        "5.How can you measure the importance of features in a Random Forest model"
      ],
      "metadata": {
        "id": "PpMA8IvhImzT"
      }
    },
    {
      "cell_type": "code",
      "source": [
        "\"\"\"\n",
        "You can measure how important each feature is using two main methods:\n",
        "\n",
        "1. Gini Importance (aka Mean Decrease in Impurity):\n",
        "\n",
        "-Popular in tree-based models like decision trees and Random Forests.\n",
        "-Each time a feature is used to split data, it reduces “impurity” (i.e., how mixed-up the target is).\n",
        "-Features that reduce impurity most often are rated as more important.\n",
        "\n",
        "2. Permutation Importance:\n",
        "\n",
        "-Works with any model (not just trees).\n",
        "-For each feature, randomly shuffle its values and measure how much the model’s performance drops.\n",
        "-A bigger drop means the feature was more crucial.\n",
        "\"\"\""
      ],
      "metadata": {
        "id": "xRaNMBkCMGM4"
      },
      "execution_count": null,
      "outputs": []
    },
    {
      "cell_type": "markdown",
      "source": [
        "6.Explain the working principle of a Bagging Classifier"
      ],
      "metadata": {
        "id": "2pWF-v6iImwN"
      }
    },
    {
      "cell_type": "code",
      "source": [
        "\"\"\"\n",
        "-It builds several versions of the same base model using different bootstrapped samples of your training data.\n",
        "\n",
        "-Each model learns from a slightly different dataset.\n",
        "\n",
        "-For predictions, the models vote (e.g., majority vote) and the consensus becomes the final output.\n",
        "\n",
        "-This approach boosts accuracy, reduces overfitting, and makes the classifier more resilient to noisy data.\n",
        "\"\"\""
      ],
      "metadata": {
        "id": "r3le0l5JMGgO"
      },
      "execution_count": null,
      "outputs": []
    },
    {
      "cell_type": "markdown",
      "source": [
        "7.How do you evaluate a Bagging Classifier’s performance"
      ],
      "metadata": {
        "id": "3Y-pveEqImrD"
      }
    },
    {
      "cell_type": "code",
      "source": [
        "\"\"\"\n",
        "You can assess a Bagging Classifier’s performance using standard metrics:\n",
        "\n",
        "-Accuracy – the overall share of correct predictions.\n",
        "\n",
        "-Precision and Recall – especially useful in datasets where classes aren't balanced:\n",
        "\n",
        "    -Precision shows how many of the predicted positives were actually correct.\n",
        "\n",
        "    -Recall shows how many of the actual positives were correctly identified.\n",
        "\n",
        "-F1‑Score – the harmonic mean of precision and recall; balances both, useful when both false positives\n",
        " and false negatives matter.\n",
        "\n",
        "-OOB (Out‑Of‑Bag) Score – an internal validation method:\n",
        " Trains each model on a bootstrap sample, then tests it on the data left out. Aggregating these gives\n",
        " a reliable performance estimate without needing a separate validation set.\n",
        "\"\"\""
      ],
      "metadata": {
        "id": "WfFaosm9MH00"
      },
      "execution_count": null,
      "outputs": []
    },
    {
      "cell_type": "markdown",
      "source": [
        "8.How does a Bagging Regressor work"
      ],
      "metadata": {
        "id": "eAt7p81bImlo"
      }
    },
    {
      "cell_type": "code",
      "source": [
        "\"\"\"\n",
        "-It builds multiple regression models using different bootstrapped samples from your training data.\n",
        "\n",
        "-Each model is trained on a slightly different dataset.\n",
        "\n",
        "-For predictions, it averages all their outputs instead of trusting just one model.\n",
        "\n",
        "-This method reduces variance (less fluctuation) and improves stability, helping prevent any single model from overfitting to the data.\n",
        "\"\"\""
      ],
      "metadata": {
        "id": "hRUARLnsMIIk"
      },
      "execution_count": null,
      "outputs": []
    },
    {
      "cell_type": "markdown",
      "source": [
        "9.What is the main advantage of ensemble techniques"
      ],
      "metadata": {
        "id": "lWvLXcHoImi5"
      }
    },
    {
      "cell_type": "code",
      "source": [
        "\"\"\"\n",
        "The main advantage is improved accuracy and robustness by reducing variance and bias.\n",
        "\"\"\""
      ],
      "metadata": {
        "id": "ljD1s561MIlo"
      },
      "execution_count": null,
      "outputs": []
    },
    {
      "cell_type": "markdown",
      "source": [
        "10.What is the main challenge of ensemble methods"
      ],
      "metadata": {
        "id": "cjVIdHVGImgL"
      }
    },
    {
      "cell_type": "code",
      "source": [
        "\"\"\"\n",
        "Challenges of Using Bagging/Ensemble Models\n",
        "\n",
        "-Heavier workload: Training and combining many models means extra computation and memory usage, so it takes longer and needs more resources.\n",
        "\n",
        "-Harder to explain: Unlike a single model (e.g., a decision tree), ensemble models act like a “black box” and don’t offer\n",
        " easy reasoning about why they made a prediction.\n",
        "\n",
        "-Delayed predictions: Running several models during inference can slow things down compared to using just one model.\n",
        "\"\"\""
      ],
      "metadata": {
        "id": "gMjo_5RkMI5H"
      },
      "execution_count": null,
      "outputs": []
    },
    {
      "cell_type": "markdown",
      "source": [
        "11.Explain the key idea behind ensemble techniques"
      ],
      "metadata": {
        "id": "vrISmmJOImdR"
      }
    },
    {
      "cell_type": "code",
      "source": [
        "\"\"\"\n",
        "What Makes Ensemble Methods Powerful\n",
        "\n",
        "-Instead of relying on just one model, ensemble methods use multiple models and combine their predictions into a single result.\n",
        "\n",
        "-This team approach helps:\n",
        "\n",
        "   *Reduce overfitting (because individual mistakes are averaged out)\n",
        "\n",
        "   *Boost accuracy (by capturing different aspects of the data)\n",
        "\n",
        "   *Enhance robustness (the final decision is less sensitive to a single model’s weakness)\n",
        "\n",
        "-By including a diverse group of models, each with its own strengths and weaknesses, ensembles often outperform any single model alone.\n",
        "\"\"\""
      ],
      "metadata": {
        "id": "ZemOdE9HMJSQ"
      },
      "execution_count": null,
      "outputs": []
    },
    {
      "cell_type": "markdown",
      "source": [
        "12.What is a Random Forest Classifier"
      ],
      "metadata": {
        "id": "k2A8gC15Imad"
      }
    },
    {
      "cell_type": "code",
      "source": [
        "\"\"\"\n",
        "A Random Forest Classifier is an ensemble of decision trees trained using Bagging and feature randomness for\n",
        "better accuracy.\n",
        "\"\"\""
      ],
      "metadata": {
        "id": "cqTnetjrMJkX"
      },
      "execution_count": null,
      "outputs": []
    },
    {
      "cell_type": "markdown",
      "source": [
        "13.What are the main types of ensemble techniques"
      ],
      "metadata": {
        "id": "Gv0FTmMOImXk"
      }
    },
    {
      "cell_type": "code",
      "source": [
        "\"\"\"\n",
        "Main Ensemble Techniques\n",
        "\n",
        "1.Bagging (Bootstrap Aggregating)\n",
        "\n",
        "-Train multiple copies of the same model on different random samples of your data.\n",
        "-Combine results (e.g., majority vote for classification, average for regression).\n",
        "-Reduces model variance and helps prevent overfitting.\n",
        "\n",
        "2.Boosting\n",
        "\n",
        "-Train models one after another, where each new model focuses on correcting errors from the previous one.\n",
        "-Combine models using weighted voting or sums.\n",
        "-Helps reduce bias and builds a stronger overall model.\n",
        "\n",
        "3.Stacking (Stacked Generalization)\n",
        "\n",
        "-Train multiple different types of models on the same data.\n",
        "-Use their outputs as inputs for a meta-model, which learns how to best combine them.\n",
        "-Offers flexibility and strong performance, but is more complex.\n",
        "\"\"\""
      ],
      "metadata": {
        "id": "TvQ70l6RMJ88"
      },
      "execution_count": null,
      "outputs": []
    },
    {
      "cell_type": "markdown",
      "source": [
        "14.What is ensemble learning in machine learning"
      ],
      "metadata": {
        "id": "BuC4Q7bXImUG"
      }
    },
    {
      "cell_type": "code",
      "source": [
        "\"\"\"\n",
        "Ensemble learning is a technique that combines multiple models to improve predictive performance and\n",
        "robustness.\n",
        "\"\"\""
      ],
      "metadata": {
        "id": "82HCJ_F_MKNB"
      },
      "execution_count": null,
      "outputs": []
    },
    {
      "cell_type": "markdown",
      "source": [
        "15.When should we avoid using ensemble methods"
      ],
      "metadata": {
        "id": "Cfre-X5tImKO"
      }
    },
    {
      "cell_type": "code",
      "source": [
        "\"\"\"\n",
        "-If you need clear, interpretable models, avoid ensembles—they combine many models into one complex system that’s difficult to explain.\n",
        "\n",
        "-When working with small datasets or limited computing power, single, simpler models are often faster, easier to manage, and just as effective.\n",
        "\"\"\""
      ],
      "metadata": {
        "id": "1bq_E-D2MKkI"
      },
      "execution_count": null,
      "outputs": []
    },
    {
      "cell_type": "markdown",
      "source": [
        "16.How does Bagging help in reducing overfitting"
      ],
      "metadata": {
        "id": "fazbhQkMImEQ"
      }
    },
    {
      "cell_type": "code",
      "source": [
        "\"\"\"\n",
        "By training a bunch of similar models on different random subsets of the data and then averaging their predictions, Bagging:\n",
        "\n",
        "-Stabilizes results: The average over many models smooths out individual fluctuations, reducing variance.\n",
        "\n",
        "-Prevents overfitting: Since no single model dominates, the ensemble is less likely to fit noise in the data.\n",
        "\n",
        "-Improves generalization: The model performs better on new, unseen data because errors cancel each other out across models.\n",
        "\"\"\""
      ],
      "metadata": {
        "id": "reZKuUQiMK57"
      },
      "execution_count": null,
      "outputs": []
    },
    {
      "cell_type": "markdown",
      "source": [
        "17.Why is Random Forest better than a single Decision Tree"
      ],
      "metadata": {
        "id": "4wgJKE8RI0oJ"
      }
    },
    {
      "cell_type": "code",
      "source": [
        "\"\"\"\n",
        "-A single decision tree can easily overfit—it might learn noise or specifics of the training data and struggle with new data.\n",
        "\n",
        "-Random Forest, however, builds many trees on different subsets of data (via bootstrapping) and averages their results.\n",
        "\n",
        "-This averaging across diverse trees reduces overfitting and improves generalization, resulting in more stable and reliable predictions on unseen data.\n",
        "\"\"\""
      ],
      "metadata": {
        "id": "q4mBJydWMLOd"
      },
      "execution_count": null,
      "outputs": []
    },
    {
      "cell_type": "markdown",
      "source": [
        "18.What is the role of bootstrap sampling in Bagging"
      ],
      "metadata": {
        "id": "x3hflPJ0I1Fu"
      }
    },
    {
      "cell_type": "code",
      "source": [
        "\"\"\"\n",
        "-You create multiple training subsets by randomly picking data points with replacement.\n",
        "\n",
        "-This means each subset can include duplicate samples and leave out others.\n",
        "\n",
        "-By training different models on these diverse datasets, you improve overall robustness and lower variance, making the ensemble more reliable and stable.\n",
        "\"\"\""
      ],
      "metadata": {
        "id": "DxWYnPsEML4S"
      },
      "execution_count": null,
      "outputs": []
    },
    {
      "cell_type": "markdown",
      "source": [
        "19.What are some real-world applications of ensemble techniques"
      ],
      "metadata": {
        "id": "RO_6rU7DI1Wm"
      }
    },
    {
      "cell_type": "code",
      "source": [
        "\"\"\"\n",
        "-Ensemble techniques are popular in areas like fraud detection, medical diagnosis, recommendation systems, and image classification.\n",
        "\n",
        "-These methods boost predictive accuracy, making them ideal for industries that demand high reliability and precision.\n",
        "\"\"\""
      ],
      "metadata": {
        "id": "YxhaQ3cxMMSP"
      },
      "execution_count": null,
      "outputs": []
    },
    {
      "cell_type": "markdown",
      "source": [
        "20.What is the difference between Bagging and Boosting?"
      ],
      "metadata": {
        "id": "LlbBDECpI1kF"
      }
    },
    {
      "cell_type": "code",
      "source": [
        "\"\"\"\n",
        "1.Model training style\n",
        "\n",
        "Bagging: models are trained independently and in parallel.\n",
        "Boosting: models are trained sequentially, one after another.\n",
        "\n",
        "2.Treatment of errors\n",
        "\n",
        "Bagging: treats all data points equally—no special focus on mistakes.\n",
        "Boosting: reweights misclassified examples to emphasize them in later training rounds.\n",
        "\n",
        "3.Combining model outputs\n",
        "\n",
        "Bagging: uses equal-weight averaging (regression) or simple majority vote (classification).\n",
        "Boosting: uses weighted combinations, giving more importance to better-performing models and difficult cases.\n",
        "\n",
        "4.Performance trade-off\n",
        "\n",
        "Bagging: mainly reduces variance, making models less prone to overfitting.\n",
        "Boosting: reduces bias and improves accuracy, though it can overfit if over-optimized.\n",
        "\n",
        "\n",
        "\"\"\""
      ],
      "metadata": {
        "id": "tphfL18wMMku"
      },
      "execution_count": null,
      "outputs": []
    },
    {
      "cell_type": "markdown",
      "source": [
        "#Practical"
      ],
      "metadata": {
        "id": "ZcKaps3zJer6"
      }
    },
    {
      "cell_type": "code",
      "source": [
        "#21 Train a Bagging Classifier using Decision Trees on a sample dataset and print model accuracy\n",
        "\n",
        "from sklearn.ensemble import BaggingClassifier\n",
        "from sklearn.tree import DecisionTreeClassifier\n",
        "from sklearn.datasets import make_classification\n",
        "from sklearn.model_selection import train_test_split\n",
        "from sklearn.metrics import accuracy_score\n",
        "\n",
        "# Generate dataset\n",
        "data, labels = make_classification(n_samples=500, n_features=5, random_state=42)\n",
        "\n",
        "# Split dataset\n",
        "train_data, test_data, train_labels, test_labels = train_test_split(\n",
        "    data, labels, test_size=0.2, random_state=42\n",
        ")\n",
        "\n",
        "# Train Bagging Classifier with Decision Trees\n",
        "bagging_model = BaggingClassifier(\n",
        "    estimator=DecisionTreeClassifier(),\n",
        "    n_estimators=10,\n",
        "    random_state=42\n",
        ")\n",
        "bagging_model.fit(train_data, train_labels)\n",
        "\n",
        "# Predict and evaluate\n",
        "predictions = bagging_model.predict(test_data)\n",
        "print(\"Bagging Classifier Accuracy:\", accuracy_score(test_labels, predictions))\n"
      ],
      "metadata": {
        "id": "5xQOlgsQJkhz",
        "outputId": "18367d0c-84f5-4d6e-c20c-a0987642adb8",
        "colab": {
          "base_uri": "https://localhost:8080/"
        }
      },
      "execution_count": null,
      "outputs": [
        {
          "output_type": "stream",
          "name": "stdout",
          "text": [
            "Bagging Classifier Accuracy: 0.95\n"
          ]
        }
      ]
    },
    {
      "cell_type": "code",
      "source": [
        "#22 Train a Bagging Regressor using Decision Trees and evaluate using Mean Squared Error (MSE)2\n",
        "\n",
        "from sklearn.ensemble import BaggingRegressor\n",
        "from sklearn.tree import DecisionTreeRegressor\n",
        "from sklearn.datasets import make_regression\n",
        "from sklearn.model_selection import train_test_split\n",
        "from sklearn.metrics import mean_squared_error\n",
        "\n",
        "# Generate dataset\n",
        "features, targets = make_regression(n_samples=500, n_features=4, noise=0.1, random_state=42)\n",
        "\n",
        "# Split dataset\n",
        "features_train, features_test, targets_train, targets_test = train_test_split(\n",
        "    features, targets, test_size=0.2, random_state=42\n",
        ")\n",
        "\n",
        "# Train Bagging Regressor\n",
        "bagging_reg = BaggingRegressor(\n",
        "    estimator=DecisionTreeRegressor(),\n",
        "    n_estimators=15,\n",
        "    random_state=42\n",
        ")\n",
        "bagging_reg.fit(features_train, targets_train)\n",
        "\n",
        "# Predict and evaluate\n",
        "predicted = bagging_reg.predict(features_test)\n",
        "print(\"Bagging Regressor MSE:\", mean_squared_error(targets_test, predicted))\n"
      ],
      "metadata": {
        "id": "oeBjRh4CJm3r",
        "outputId": "96d032e5-e8e0-422c-dd77-4637b150d37f",
        "colab": {
          "base_uri": "https://localhost:8080/"
        }
      },
      "execution_count": null,
      "outputs": [
        {
          "output_type": "stream",
          "name": "stdout",
          "text": [
            "Bagging Regressor MSE: 190.28937726305065\n"
          ]
        }
      ]
    },
    {
      "cell_type": "code",
      "source": [
        "#23 Train a Random Forest Classifier on the Breast Cancer dataset and print feature importance scores2\n",
        "\n",
        "from sklearn.ensemble import RandomForestClassifier\n",
        "from sklearn.datasets import load_breast_cancer\n",
        "from sklearn.model_selection import train_test_split\n",
        "\n",
        "# Load dataset\n",
        "breast_cancer = load_breast_cancer()\n",
        "features, targets = breast_cancer.data, breast_cancer.target\n",
        "\n",
        "# Split dataset\n",
        "train_features, test_features, train_targets, test_targets = train_test_split(\n",
        "    features, targets, test_size=0.2, random_state=42\n",
        ")\n",
        "\n",
        "# Train Random Forest Classifier\n",
        "rf_classifier = RandomForestClassifier(n_estimators=20, random_state=42)\n",
        "rf_classifier.fit(train_features, train_targets)\n",
        "\n",
        "# Print feature importance\n",
        "print(\"Feature Importances:\", rf_classifier.feature_importances_)\n",
        "\n"
      ],
      "metadata": {
        "id": "D4kMO4srJmwx",
        "outputId": "a0ca4a04-6e74-4255-d1ae-bdafba7362f9",
        "colab": {
          "base_uri": "https://localhost:8080/"
        }
      },
      "execution_count": null,
      "outputs": [
        {
          "output_type": "stream",
          "name": "stdout",
          "text": [
            "Feature Importances: [0.09389798 0.01877596 0.03209534 0.0353801  0.0085131  0.02477505\n",
            " 0.06971444 0.12637211 0.00547855 0.00354851 0.03643317 0.0072133\n",
            " 0.00774274 0.0660334  0.00356888 0.0034282  0.01114746 0.00448966\n",
            " 0.00460848 0.00688001 0.05943534 0.01430702 0.07393636 0.07405907\n",
            " 0.00344462 0.03205183 0.01789973 0.14169879 0.00807492 0.00499585]\n"
          ]
        }
      ]
    },
    {
      "cell_type": "code",
      "source": [
        "#24 Train a Random Forest Regressor and compare its performance with a single Decision Tree\n",
        "\n",
        "from sklearn.ensemble import RandomForestRegressor\n",
        "from sklearn.tree import DecisionTreeRegressor\n",
        "from sklearn.datasets import make_regression\n",
        "from sklearn.model_selection import train_test_split\n",
        "from sklearn.metrics import r2_score\n",
        "\n",
        "# Generate synthetic regression dataset\n",
        "features_all, targets_all = make_regression(\n",
        "    n_samples=300, n_features=6, noise=0.2, random_state=42\n",
        ")\n",
        "\n",
        "# Split into training and testing sets\n",
        "features_train, features_test, targets_train, targets_test = train_test_split(\n",
        "    features_all, targets_all, test_size=0.2, random_state=42\n",
        ")\n",
        "\n",
        "# Train a single Decision Tree Regressor\n",
        "dt_regressor = DecisionTreeRegressor(random_state=42)\n",
        "dt_regressor.fit(features_train, targets_train)\n",
        "dt_predictions = dt_regressor.predict(features_test)\n",
        "\n",
        "# Train a Random Forest Regressor\n",
        "rf_regressor = RandomForestRegressor(n_estimators=15, random_state=42)\n",
        "rf_regressor.fit(features_train, targets_train)\n",
        "rf_predictions = rf_regressor.predict(features_test)\n",
        "\n",
        "# Compare R² scores\n",
        "print(\"Decision Tree R² Score:\", r2_score(targets_test, dt_predictions))\n",
        "print(\"Random Forest R² Score:\", r2_score(targets_test, rf_predictions))\n"
      ],
      "metadata": {
        "id": "mXNDz6L8JmqV",
        "outputId": "f2c04f33-35b4-447c-8f3c-33554a9f2be1",
        "colab": {
          "base_uri": "https://localhost:8080/"
        }
      },
      "execution_count": null,
      "outputs": [
        {
          "output_type": "stream",
          "name": "stdout",
          "text": [
            "Decision Tree R² Score: 0.6870379024847741\n",
            "Random Forest R² Score: 0.8664631475261791\n"
          ]
        }
      ]
    },
    {
      "cell_type": "code",
      "source": [
        "#25  Compute the Out-of-Bag (OOB) Score for a Random Forest Classifier2\n",
        "\n",
        "from sklearn.ensemble import RandomForestClassifier\n",
        "from sklearn.datasets import make_classification\n",
        "\n",
        "# Generate dataset\n",
        "features, labels = make_classification(n_samples=400, n_features=5, random_state=42)\n",
        "\n",
        "# Train Random Forest with OOB Score enabled\n",
        "rf_classifier = RandomForestClassifier(\n",
        "    n_estimators=15,\n",
        "    oob_score=True,\n",
        "    random_state=42\n",
        ")\n",
        "rf_classifier.fit(features, labels)\n",
        "\n",
        "# Print OOB Score\n",
        "print(\"OOB Score:\", rf_classifier.oob_score_)\n"
      ],
      "metadata": {
        "id": "8L7Kvq1WJmko",
        "outputId": "f0e38dbb-16ac-40de-fa26-cff5acb6e790",
        "colab": {
          "base_uri": "https://localhost:8080/"
        }
      },
      "execution_count": null,
      "outputs": [
        {
          "output_type": "stream",
          "name": "stdout",
          "text": [
            "OOB Score: 0.9225\n"
          ]
        }
      ]
    },
    {
      "cell_type": "code",
      "source": [
        "#26 Train a Bagging Classifier using SVM as a base estimator and print accuracy2\n",
        "\n",
        "from sklearn.ensemble import BaggingClassifier\n",
        "from sklearn.svm import SVC\n",
        "from sklearn.datasets import make_classification\n",
        "from sklearn.model_selection import train_test_split\n",
        "from sklearn.metrics import accuracy_score\n",
        "\n",
        "# Generate synthetic dataset\n",
        "features, labels = make_classification(n_samples=500, n_features=4, random_state=42)\n",
        "\n",
        "# Split into training and testing sets\n",
        "train_features, test_features, train_labels, test_labels = train_test_split(\n",
        "    features, labels, test_size=0.2, random_state=42\n",
        ")\n",
        "\n",
        "# Train a Bagging Classifier using SVM as the base estimator\n",
        "svm_bagging = BaggingClassifier(\n",
        "    estimator=SVC(),\n",
        "    n_estimators=10,\n",
        "    random_state=42\n",
        ")\n",
        "svm_bagging.fit(train_features, train_labels)\n",
        "\n",
        "# Predict and evaluate accuracy on test set\n",
        "bagging_predictions = svm_bagging.predict(test_features)\n",
        "print(\"Bagging Classifier (SVM) Accuracy:\", accuracy_score(test_labels, bagging_predictions))\n"
      ],
      "metadata": {
        "id": "x7napv6_JmdV",
        "outputId": "c294b338-054b-43ba-94fa-18cedbdcef9a",
        "colab": {
          "base_uri": "https://localhost:8080/"
        }
      },
      "execution_count": null,
      "outputs": [
        {
          "output_type": "stream",
          "name": "stdout",
          "text": [
            "Bagging Classifier (SVM) Accuracy: 0.92\n"
          ]
        }
      ]
    },
    {
      "cell_type": "code",
      "source": [
        "#27 Train a Random Forest Classifier with different numbers of trees and compare accuracy2\n",
        "\n",
        "from sklearn.ensemble import RandomForestClassifier\n",
        "from sklearn.datasets import make_classification\n",
        "from sklearn.model_selection import train_test_split\n",
        "from sklearn.metrics import accuracy_score\n",
        "\n",
        "# Generate synthetic dataset\n",
        "features, targets = make_classification(n_samples=500, n_features=5, random_state=42)\n",
        "\n",
        "# Split into training and testing sets\n",
        "train_features, test_features, train_targets, test_targets = train_test_split(\n",
        "    features, targets, test_size=0.2, random_state=42\n",
        ")\n",
        "\n",
        "# Train Random Forest with varying number of trees\n",
        "for n_trees in [5, 10, 50, 100]:\n",
        "    rf_clf = RandomForestClassifier(n_estimators=n_trees, random_state=42)\n",
        "    rf_clf.fit(train_features, train_targets)\n",
        "\n",
        "    predictions = rf_clf.predict(test_features)\n",
        "    accuracy = accuracy_score(test_targets, predictions)\n",
        "\n",
        "    print(f\"Accuracy with {n_trees} trees:\", accuracy)\n"
      ],
      "metadata": {
        "id": "NvKXJOonJmW4",
        "outputId": "9e15e6df-1a28-4138-a72b-348fcd8f0b9d",
        "colab": {
          "base_uri": "https://localhost:8080/"
        }
      },
      "execution_count": null,
      "outputs": [
        {
          "output_type": "stream",
          "name": "stdout",
          "text": [
            "Accuracy with 5 trees: 0.95\n",
            "Accuracy with 10 trees: 0.94\n",
            "Accuracy with 50 trees: 0.96\n",
            "Accuracy with 100 trees: 0.96\n"
          ]
        }
      ]
    },
    {
      "cell_type": "code",
      "source": [
        "#28 Train a Bagging Classifier using Logistic Regression as a base estimator and print AUC score2\n",
        "\n",
        "from sklearn.ensemble import BaggingClassifier\n",
        "from sklearn.linear_model import LogisticRegression\n",
        "from sklearn.datasets import make_classification\n",
        "from sklearn.model_selection import train_test_split\n",
        "from sklearn.metrics import roc_auc_score\n",
        "\n",
        "# Generate synthetic dataset\n",
        "features, targets = make_classification(n_samples=600, n_features=4, random_state=42)\n",
        "\n",
        "# Split into training and testing sets\n",
        "train_features, test_features, train_targets, test_targets = train_test_split(\n",
        "    features, targets, test_size=0.2, random_state=42\n",
        ")\n",
        "\n",
        "# Train Bagging Classifier using Logistic Regression as the base estimator\n",
        "logreg_bagging = BaggingClassifier(\n",
        "    estimator=LogisticRegression(),\n",
        "    n_estimators=10,\n",
        "    random_state=42\n",
        ")\n",
        "logreg_bagging.fit(train_features, train_targets)\n",
        "\n",
        "# Predict probabilities and evaluate using AUC\n",
        "predicted_probs = logreg_bagging.predict_proba(test_features)[:, 1]\n",
        "auc = roc_auc_score(test_targets, predicted_probs)\n",
        "print(\"AUC Score:\", auc)\n"
      ],
      "metadata": {
        "id": "zwORpHqsJmRW",
        "outputId": "fb2273e7-a2bd-4d94-d70d-5aa487a3f1b2",
        "colab": {
          "base_uri": "https://localhost:8080/"
        }
      },
      "execution_count": null,
      "outputs": [
        {
          "output_type": "stream",
          "name": "stdout",
          "text": [
            "AUC Score: 0.961352657004831\n"
          ]
        }
      ]
    },
    {
      "cell_type": "code",
      "source": [
        "#29 Train a Random Forest Regressor and analyze feature importance scores2\n",
        "\n",
        "from sklearn.ensemble import RandomForestRegressor\n",
        "from sklearn.datasets import make_regression\n",
        "from sklearn.model_selection import train_test_split\n",
        "\n",
        "# Generate synthetic regression dataset\n",
        "features_all, targets_all = make_regression(\n",
        "    n_samples=400, n_features=6, noise=0.3, random_state=42\n",
        ")\n",
        "\n",
        "# Split into training and testing sets\n",
        "features_train, features_test, targets_train, targets_test = train_test_split(\n",
        "    features_all, targets_all, test_size=0.2, random_state=42\n",
        ")\n",
        "\n",
        "# Train Random Forest Regressor\n",
        "rf_regressor = RandomForestRegressor(\n",
        "    n_estimators=20,\n",
        "    random_state=42\n",
        ")\n",
        "rf_regressor.fit(features_train, targets_train)\n",
        "\n",
        "# Print feature importances\n",
        "print(\"Feature Importances:\", rf_regressor.feature_importances_)\n"
      ],
      "metadata": {
        "id": "FgbXMXQeJmMk",
        "outputId": "35c9f61d-959f-403c-e59d-c2e710c7c3e0",
        "colab": {
          "base_uri": "https://localhost:8080/"
        }
      },
      "execution_count": null,
      "outputs": [
        {
          "output_type": "stream",
          "name": "stdout",
          "text": [
            "Feature Importances: [0.2462535  0.01016018 0.05553606 0.67049721 0.00889836 0.00865468]\n"
          ]
        }
      ]
    },
    {
      "cell_type": "code",
      "source": [
        "#30 Train an ensemble model using both Bagging and Random Forest and compare accuracy\n",
        "\n",
        "from sklearn.ensemble import BaggingClassifier, RandomForestClassifier\n",
        "from sklearn.tree import DecisionTreeClassifier\n",
        "from sklearn.datasets import make_classification\n",
        "from sklearn.model_selection import train_test_split\n",
        "from sklearn.metrics import accuracy_score\n",
        "\n",
        "# Generate dataset\n",
        "features, labels = make_classification(n_samples=500, n_features=5, random_state=42)\n",
        "\n",
        "# Split dataset\n",
        "features_train, features_test, labels_train, labels_test = train_test_split(\n",
        "    features, labels, test_size=0.2, random_state=42\n",
        ")\n",
        "\n",
        "# Train Bagging Classifier with Decision Trees\n",
        "bagging_classifier = BaggingClassifier(\n",
        "    estimator=DecisionTreeClassifier(), n_estimators=10, random_state=42\n",
        ")\n",
        "bagging_classifier.fit(features_train, labels_train)\n",
        "\n",
        "# Train Random Forest Classifier\n",
        "random_forest_classifier = RandomForestClassifier(n_estimators=10, random_state=42)\n",
        "random_forest_classifier.fit(features_train, labels_train)\n",
        "\n",
        "# Evaluate models\n",
        "bagging_accuracy = accuracy_score(labels_test, bagging_classifier.predict(features_test))\n",
        "rf_accuracy = accuracy_score(labels_test, random_forest_classifier.predict(features_test))\n",
        "\n",
        "print(\"Bagging Classifier Accuracy:\", bagging_accuracy)\n",
        "print(\"Random Forest Classifier Accuracy:\", rf_accuracy)\n"
      ],
      "metadata": {
        "id": "05UNZ8qyJmIa",
        "outputId": "8e08adbe-264d-4e90-c0b2-075068bbce54",
        "colab": {
          "base_uri": "https://localhost:8080/"
        }
      },
      "execution_count": null,
      "outputs": [
        {
          "output_type": "stream",
          "name": "stdout",
          "text": [
            "Bagging Classifier Accuracy: 0.95\n",
            "Random Forest Classifier Accuracy: 0.94\n"
          ]
        }
      ]
    },
    {
      "cell_type": "code",
      "source": [
        "#31  Train a Random Forest Classifier and tune hyperparameters using GridSearchCV\n",
        "\n",
        "from sklearn.ensemble import RandomForestClassifier\n",
        "from sklearn.datasets import make_classification\n",
        "from sklearn.model_selection import train_test_split, GridSearchCV\n",
        "\n",
        "# Generate dataset\n",
        "features, labels = make_classification(n_samples=500, n_features=6, random_state=42)\n",
        "\n",
        "# Split into training and testing sets\n",
        "features_train, features_test, labels_train, labels_test = train_test_split(\n",
        "    features, labels, test_size=0.2, random_state=42\n",
        ")\n",
        "\n",
        "# Define parameter grid for hyperparameter tuning\n",
        "param_grid = {\n",
        "    'n_estimators': [10, 50, 100],\n",
        "    'max_depth': [None, 5, 10]\n",
        "}\n",
        "\n",
        "# Perform grid search with 3-fold cross-validation\n",
        "grid_search = GridSearchCV(\n",
        "    estimator=RandomForestClassifier(random_state=42),\n",
        "    param_grid=param_grid,\n",
        "    cv=3\n",
        ")\n",
        "grid_search.fit(features_train, labels_train)\n",
        "\n",
        "# Print best hyperparameters found\n",
        "print(\"Best Parameters:\", grid_search.best_params_)\n"
      ],
      "metadata": {
        "id": "MaW6hvtoJmEM",
        "outputId": "ec9618d1-b04b-4af7-e600-32b11277b864",
        "colab": {
          "base_uri": "https://localhost:8080/"
        }
      },
      "execution_count": null,
      "outputs": [
        {
          "output_type": "stream",
          "name": "stdout",
          "text": [
            "Best Parameters: {'max_depth': None, 'n_estimators': 50}\n"
          ]
        }
      ]
    },
    {
      "cell_type": "code",
      "source": [
        "#32 Train a Bagging Regressor with different numbers of base estimators and compare performance\n",
        "\n",
        "from sklearn.ensemble import RandomForestClassifier\n",
        "from sklearn.datasets import make_classification\n",
        "from sklearn.model_selection import train_test_split, GridSearchCV\n",
        "\n",
        "# Generate synthetic dataset\n",
        "features, targets = make_classification(n_samples=500, n_features=6, random_state=42)\n",
        "\n",
        "# Split into training and testing sets\n",
        "features_train, features_test, targets_train, targets_test = train_test_split(\n",
        "    features, targets, test_size=0.2, random_state=42\n",
        ")\n",
        "\n",
        "# Define parameter grid for Random Forest\n",
        "param_grid = {\n",
        "    'n_estimators': [10, 50, 100],\n",
        "    'max_depth': [None, 5, 10]\n",
        "}\n",
        "\n",
        "# Grid search with 3-fold cross-validation\n",
        "grid_search = GridSearchCV(\n",
        "    estimator=RandomForestClassifier(random_state=42),\n",
        "    param_grid=param_grid,\n",
        "    cv=3\n",
        ")\n",
        "grid_search.fit(features_train, targets_train)\n",
        "\n",
        "# Output best parameters found\n",
        "print(\"Best Parameters:\", grid_search.best_params_)\n"
      ],
      "metadata": {
        "id": "IkH-MvZnJl--",
        "outputId": "e2d431fa-1cc4-4a48-a518-ba6ced3ab09b",
        "colab": {
          "base_uri": "https://localhost:8080/"
        }
      },
      "execution_count": null,
      "outputs": [
        {
          "output_type": "stream",
          "name": "stdout",
          "text": [
            "Best Parameters: {'max_depth': None, 'n_estimators': 50}\n"
          ]
        }
      ]
    },
    {
      "cell_type": "code",
      "source": [
        "#33 Train a Random Forest Classifier and analyze misclassified samples=\n",
        "\n",
        "from sklearn.ensemble import RandomForestClassifier\n",
        "from sklearn.datasets import make_classification\n",
        "from sklearn.model_selection import train_test_split\n",
        "import numpy as np\n",
        "\n",
        "# Generate synthetic dataset\n",
        "features, targets = make_classification(n_samples=500, n_features=5, random_state=42)\n",
        "\n",
        "# Split into training and testing sets\n",
        "features_train, features_test, targets_train, targets_test = train_test_split(\n",
        "    features, targets, test_size=0.2, random_state=42\n",
        ")\n",
        "\n",
        "# Train Random Forest Classifier\n",
        "rf_classifier = RandomForestClassifier(n_estimators=20, random_state=42)\n",
        "rf_classifier.fit(features_train, targets_train)\n",
        "\n",
        "# Identify misclassified test samples\n",
        "misclassified_indices = np.where(targets_test != rf_classifier.predict(features_test))\n",
        "print(\"Misclassified Sample Indices:\", misclassified_indices[0])\n"
      ],
      "metadata": {
        "id": "XmXhAN62Jl6K",
        "outputId": "667b6323-1cea-4694-9115-d706313606df",
        "colab": {
          "base_uri": "https://localhost:8080/"
        }
      },
      "execution_count": null,
      "outputs": [
        {
          "output_type": "stream",
          "name": "stdout",
          "text": [
            "Misclassified Sample Indices: [ 2 11 49 72 90]\n"
          ]
        }
      ]
    },
    {
      "cell_type": "code",
      "source": [
        "#34 Train a Bagging Classifier and compare its performance with a single Decision Tree Classifier\n",
        "\n",
        "from sklearn.ensemble import BaggingClassifier\n",
        "from sklearn.tree import DecisionTreeClassifier\n",
        "from sklearn.datasets import make_classification\n",
        "from sklearn.model_selection import train_test_split\n",
        "from sklearn.metrics import accuracy_score\n",
        "\n",
        "# Generate synthetic dataset\n",
        "features, targets = make_classification(n_samples=400, n_features=6, random_state=42)\n",
        "\n",
        "# Split into training and testing sets\n",
        "features_train, features_test, targets_train, targets_test = train_test_split(\n",
        "    features, targets, test_size=0.2, random_state=42\n",
        ")\n",
        "\n",
        "# Train single Decision Tree classifier\n",
        "dt_classifier = DecisionTreeClassifier(random_state=42)\n",
        "dt_classifier.fit(features_train, targets_train)\n",
        "dt_accuracy = accuracy_score(targets_test, dt_classifier.predict(features_test))\n",
        "\n",
        "# Train Bagging Classifier with Decision Trees\n",
        "bagging_classifier = BaggingClassifier(\n",
        "    estimator=DecisionTreeClassifier(),\n",
        "    n_estimators=10,\n",
        "    random_state=42\n",
        ")\n",
        "bagging_classifier.fit(features_train, targets_train)\n",
        "bagging_accuracy = accuracy_score(targets_test, bagging_classifier.predict(features_test))\n",
        "\n",
        "print(\"Decision Tree Accuracy:\", dt_accuracy)\n",
        "print(\"Bagging Classifier Accuracy:\", bagging_accuracy)\n"
      ],
      "metadata": {
        "id": "mU8RMJHtJl1R",
        "outputId": "be538511-cb57-423e-92eb-1676fb509243",
        "colab": {
          "base_uri": "https://localhost:8080/"
        }
      },
      "execution_count": null,
      "outputs": [
        {
          "output_type": "stream",
          "name": "stdout",
          "text": [
            "Decision Tree Accuracy: 0.9375\n",
            "Bagging Classifier Accuracy: 0.975\n"
          ]
        }
      ]
    },
    {
      "cell_type": "code",
      "source": [
        "#35 Train a Random Forest Classifier and visualize the confusion matrix=\n",
        "\n",
        "import seaborn as sns\n",
        "import matplotlib.pyplot as plt\n",
        "from sklearn.ensemble import RandomForestClassifier\n",
        "from sklearn.datasets import make_classification\n",
        "from sklearn.model_selection import train_test_split\n",
        "from sklearn.metrics import confusion_matrix\n",
        "\n",
        "# Generate synthetic dataset\n",
        "features, targets = make_classification(n_samples=500, n_features=5, random_state=42)\n",
        "\n",
        "# Split into training and testing sets\n",
        "features_train, features_test, targets_train, targets_test = train_test_split(\n",
        "    features, targets, test_size=0.2, random_state=42\n",
        ")\n",
        "\n",
        "# Train Random Forest Classifier\n",
        "rf_classifier = RandomForestClassifier(n_estimators=20, random_state=42)\n",
        "rf_classifier.fit(features_train, targets_train)\n",
        "\n",
        "# Compute confusion matrix\n",
        "predictions = rf_classifier.predict(features_test)\n",
        "conf_matrix = confusion_matrix(targets_test, predictions)\n",
        "\n",
        "# Plot confusion matrix\n",
        "sns.heatmap(conf_matrix, annot=True, fmt=\"d\", cmap=\"Blues\")\n",
        "plt.xlabel(\"Predicted Label\")\n",
        "plt.ylabel(\"True Label\")\n",
        "plt.title(\"Confusion Matrix – Random Forest\")\n",
        "plt.show()\n"
      ],
      "metadata": {
        "id": "Sz6GTDYmJlwc",
        "outputId": "3f5767b4-94e7-42a6-dba9-7c8b47c7f959",
        "colab": {
          "base_uri": "https://localhost:8080/",
          "height": 472
        }
      },
      "execution_count": null,
      "outputs": [
        {
          "output_type": "display_data",
          "data": {
            "text/plain": [
              "<Figure size 640x480 with 2 Axes>"
            ],
            "image/png": "[encoded data removed]"
          },
          "metadata": {}
        }
      ]
    },
    {
      "cell_type": "code",
      "source": [
        "#36 Train a Stacking Classifier using Decision Trees, SVM, and Logistic Regression, and compare accuracy=\n",
        "\n",
        "import seaborn as sns\n",
        "import matplotlib.pyplot as plt\n",
        "from sklearn.ensemble import RandomForestClassifier\n",
        "from sklearn.datasets import make_classification\n",
        "from sklearn.model_selection import train_test_split\n",
        "from sklearn.metrics import confusion_matrix\n",
        "\n",
        "# Generate synthetic dataset\n",
        "features, targets = make_classification(n_samples=500, n_features=5, random_state=42)\n",
        "\n",
        "# Split into training and testing sets\n",
        "features_train, features_test, targets_train, targets_test = train_test_split(\n",
        "    features, targets, test_size=0.2, random_state=42\n",
        ")\n",
        "\n",
        "# Train Random Forest classifier\n",
        "rf_classifier = RandomForestClassifier(n_estimators=20, random_state=42)\n",
        "rf_classifier.fit(features_train, targets_train)\n",
        "\n",
        "# Compute confusion matrix\n",
        "predictions = rf_classifier.predict(features_test)\n",
        "conf_matrix = confusion_matrix(targets_test, predictions)\n",
        "\n",
        "# Plot confusion matrix\n",
        "sns.heatmap(conf_matrix, annot=True, fmt=\"d\", cmap=\"Blues\")\n",
        "plt.xlabel(\"Predicted Label\")\n",
        "plt.ylabel(\"True Label\")\n",
        "plt.title(\"Confusion Matrix – Random Forest\")\n",
        "plt.show()\n"
      ],
      "metadata": {
        "id": "UyXv623xJlrv",
        "outputId": "ef17daa2-0f12-42fb-b973-5f7f30549f45",
        "colab": {
          "base_uri": "https://localhost:8080/",
          "height": 472
        }
      },
      "execution_count": null,
      "outputs": [
        {
          "output_type": "display_data",
          "data": {
            "text/plain": [
              "<Figure size 640x480 with 2 Axes>"
            ],
            "image/png": "[encoded data removed]"
          },
          "metadata": {}
        }
      ]
    },
    {
      "cell_type": "code",
      "source": [
        "#37 Train a Random Forest Classifier and print the top 5 most important features\n",
        "\n",
        "from sklearn.ensemble import RandomForestClassifier\n",
        "from sklearn.datasets import load_wine\n",
        "from sklearn.model_selection import train_test_split\n",
        "\n",
        "# Load wine dataset\n",
        "wine_data = load_wine()\n",
        "features, targets = wine_data.data, wine_data.target\n",
        "feature_names = wine_data.feature_names\n",
        "\n",
        "# Split into training and testing sets\n",
        "features_train, features_test, targets_train, targets_test = train_test_split(\n",
        "    features, targets, test_size=0.2, random_state=42\n",
        ")\n",
        "\n",
        "# Train Random Forest Classifier\n",
        "rf_classifier = RandomForestClassifier(n_estimators=30, random_state=42)\n",
        "rf_classifier.fit(features_train, targets_train)\n",
        "\n",
        "# Compute and print top 5 most important features\n",
        "feature_importance = sorted(\n",
        "    zip(feature_names, rf_classifier.feature_importances_),\n",
        "    key=lambda x: x[1],\n",
        "    reverse=True\n",
        ")\n",
        "print(\"Top 5 Important Features:\", feature_importance[:5])\n"
      ],
      "metadata": {
        "id": "_WMCeJI0Jlmh",
        "outputId": "0f99020f-36fb-455a-ead9-af791f1aed53",
        "colab": {
          "base_uri": "https://localhost:8080/"
        }
      },
      "execution_count": null,
      "outputs": [
        {
          "output_type": "stream",
          "name": "stdout",
          "text": [
            "Top 5 Important Features: [('flavanoids', np.float64(0.23879579217160415)), ('color_intensity', np.float64(0.14498623162385882)), ('od280/od315_of_diluted_wines', np.float64(0.11900812539978446)), ('alcohol', np.float64(0.09290190568038877)), ('hue', np.float64(0.09092352236249875))]\n"
          ]
        }
      ]
    },
    {
      "cell_type": "code",
      "source": [
        "#38 Train a Bagging Classifier and evaluate performance using Precision, Recall, and F1-score=\n",
        "\n",
        "from sklearn.ensemble import BaggingClassifier\n",
        "from sklearn.tree import DecisionTreeClassifier\n",
        "from sklearn.datasets import make_classification\n",
        "from sklearn.model_selection import train_test_split\n",
        "from sklearn.metrics import precision_score, recall_score, f1_score\n",
        "\n",
        "# Generate synthetic dataset\n",
        "features, targets = make_classification(n_samples=500, n_features=4, random_state=42)\n",
        "\n",
        "# Split into training and testing sets\n",
        "features_train, features_test, targets_train, targets_test = train_test_split(\n",
        "    features, targets, test_size=0.2, random_state=42\n",
        ")\n",
        "\n",
        "# Train Bagging Classifier with decision tree estimator\n",
        "bagging_classifier = BaggingClassifier(\n",
        "    estimator=DecisionTreeClassifier(),\n",
        "    n_estimators=10,\n",
        "    random_state=42\n",
        ")\n",
        "bagging_classifier.fit(features_train, targets_train)\n",
        "\n",
        "# Predict and evaluate using precision, recall, and F1-score\n",
        "predictions = bagging_classifier.predict(features_test)\n",
        "print(\"Precision:\", precision_score(targets_test, predictions, average='macro'))\n",
        "print(\"Recall:\", recall_score(targets_test, predictions, average='macro'))\n",
        "print(\"F1-Score:\", f1_score(targets_test, predictions, average='macro'))\n"
      ],
      "metadata": {
        "id": "zeCuJUUxJlh9",
        "outputId": "b97d008f-0544-4da1-e55c-13e05e96d896",
        "colab": {
          "base_uri": "https://localhost:8080/"
        }
      },
      "execution_count": null,
      "outputs": [
        {
          "output_type": "stream",
          "name": "stdout",
          "text": [
            "Precision: 0.9291449217181855\n",
            "Recall: 0.9303542673107891\n",
            "F1-Score: 0.9296553110240177\n"
          ]
        }
      ]
    },
    {
      "cell_type": "code",
      "source": [
        "#39  Train a Random Forest Classifier and analyze the effect of max_depth on accuracy=\n",
        "\n",
        "from sklearn.ensemble import RandomForestClassifier\n",
        "from sklearn.datasets import make_classification\n",
        "from sklearn.model_selection import train_test_split\n",
        "from sklearn.metrics import accuracy_score\n",
        "\n",
        "# Generate synthetic dataset\n",
        "features, targets = make_classification(n_samples=400, n_features=6, random_state=42)\n",
        "\n",
        "# Split into training and testing sets\n",
        "features_train, features_test, targets_train, targets_test = train_test_split(\n",
        "    features, targets, test_size=0.2, random_state=42\n",
        ")\n",
        "\n",
        "# Train Random Forest with varying depth values\n",
        "for max_depth in [None, 5, 10, 20]:\n",
        "    rf_classifier = RandomForestClassifier(\n",
        "        n_estimators=20,\n",
        "        max_depth=max_depth,\n",
        "        random_state=42\n",
        "    )\n",
        "    rf_classifier.fit(features_train, targets_train)\n",
        "    predictions = rf_classifier.predict(features_test)\n",
        "    accuracy = accuracy_score(targets_test, predictions)\n",
        "    print(f\"Accuracy with max_depth={max_depth}:\", accuracy)\n"
      ],
      "metadata": {
        "id": "2k9sS_mQJlcW",
        "outputId": "a3019d8d-deef-46e1-a667-d35fd4e7de75",
        "colab": {
          "base_uri": "https://localhost:8080/"
        }
      },
      "execution_count": null,
      "outputs": [
        {
          "output_type": "stream",
          "name": "stdout",
          "text": [
            "Accuracy with max_depth=None: 0.9625\n",
            "Accuracy with max_depth=5: 0.9625\n",
            "Accuracy with max_depth=10: 0.9625\n",
            "Accuracy with max_depth=20: 0.9625\n"
          ]
        }
      ]
    },
    {
      "cell_type": "code",
      "source": [
        "#40 Train a Bagging Regressor using different base estimators (DecisionTree and KNeighbors) and compare performance\n",
        "\n",
        "from sklearn.ensemble import BaggingRegressor\n",
        "from sklearn.tree import DecisionTreeRegressor\n",
        "from sklearn.neighbors import KNeighborsRegressor\n",
        "from sklearn.datasets import make_regression\n",
        "from sklearn.model_selection import train_test_split\n",
        "from sklearn.metrics import mean_absolute_error\n",
        "\n",
        "# Generate synthetic regression dataset\n",
        "features, targets = make_regression(\n",
        "    n_samples=400, n_features=5, noise=0.4, random_state=42\n",
        ")\n",
        "\n",
        "# Split into training and testing sets\n",
        "features_train, features_test, targets_train, targets_test = train_test_split(\n",
        "    features, targets, test_size=0.2, random_state=42\n",
        ")\n",
        "\n",
        "# Define two Bagging Regressor models\n",
        "bagging_models = {\n",
        "    \"decision_tree\": BaggingRegressor(\n",
        "        estimator=DecisionTreeRegressor(),\n",
        "        n_estimators=10,\n",
        "        random_state=42\n",
        "    ),\n",
        "    \"k_neighbors\": BaggingRegressor(\n",
        "        estimator=KNeighborsRegressor(),\n",
        "        n_estimators=10,\n",
        "        random_state=42\n",
        "    )\n",
        "}\n",
        "\n",
        "# Train and evaluate each model\n",
        "for model_name, model in bagging_models.items():\n",
        "    model.fit(features_train, targets_train)\n",
        "    predictions = model.predict(features_test)\n",
        "    mae = mean_absolute_error(targets_test, predictions)\n",
        "    print(f\"MAE for {model_name}:\", mae)\n"
      ],
      "metadata": {
        "id": "8CKrZgYtJlWn",
        "outputId": "b4628599-6327-40cc-c94e-f1d9badb5dfe",
        "colab": {
          "base_uri": "https://localhost:8080/"
        }
      },
      "execution_count": null,
      "outputs": [
        {
          "output_type": "stream",
          "name": "stdout",
          "text": [
            "MAE for decision_tree: 20.313150999663247\n",
            "MAE for k_neighbors: 23.55133904480849\n"
          ]
        }
      ]
    },
    {
      "cell_type": "code",
      "source": [
        "#41 Train a Random Forest Classifier and evaluate its performance using ROC-AUC Score\n",
        "\n",
        "from sklearn.ensemble import RandomForestClassifier\n",
        "from sklearn.datasets import make_classification\n",
        "from sklearn.model_selection import train_test_split\n",
        "from sklearn.metrics import roc_auc_score\n",
        "\n",
        "# Generate synthetic dataset\n",
        "features, targets = make_classification(n_samples=500, n_features=6, random_state=42)\n",
        "\n",
        "# Split into training and testing sets\n",
        "features_train, features_test, targets_train, targets_test = train_test_split(\n",
        "    features, targets, test_size=0.2, random_state=42\n",
        ")\n",
        "\n",
        "# Train Random Forest Classifier\n",
        "rf_classifier = RandomForestClassifier(n_estimators=20, random_state=42)\n",
        "rf_classifier.fit(features_train, targets_train)\n",
        "\n",
        "# Predict probabilities for positive class\n",
        "predicted_probabilities = rf_classifier.predict_proba(features_test)[:, 1]\n",
        "\n",
        "# Compute ROC-AUC Score\n",
        "roc_auc = roc_auc_score(targets_test, predicted_probabilities)\n",
        "print(\"ROC-AUC Score:\", roc_auc)\n"
      ],
      "metadata": {
        "id": "ugXbD2LAJlQx",
        "outputId": "80fc4c63-4fad-494f-bb8d-902e3ce72b8d",
        "colab": {
          "base_uri": "https://localhost:8080/"
        }
      },
      "execution_count": null,
      "outputs": [
        {
          "output_type": "stream",
          "name": "stdout",
          "text": [
            "ROC-AUC Score: 0.9849033816425121\n"
          ]
        }
      ]
    },
    {
      "cell_type": "code",
      "source": [
        "#42 Train a Bagging Classifier and evaluate its performance using cross-validatio.\n",
        "\n",
        "from sklearn.ensemble import BaggingClassifier\n",
        "from sklearn.tree import DecisionTreeClassifier\n",
        "from sklearn.datasets import make_classification\n",
        "from sklearn.model_selection import cross_val_score\n",
        "\n",
        "# Generate synthetic dataset\n",
        "features, targets = make_classification(n_samples=500, n_features=6, random_state=42)\n",
        "\n",
        "# Initialize Bagging Classifier\n",
        "bagging_classifier = BaggingClassifier(\n",
        "    estimator=DecisionTreeClassifier(),\n",
        "    n_estimators=10,\n",
        "    random_state=42\n",
        ")\n",
        "\n",
        "# Compute 5-fold cross-validation scores\n",
        "cv_scores = cross_val_score(bagging_classifier, features, targets, cv=5)\n",
        "\n",
        "# Display results\n",
        "print(\"Cross-Validation Scores:\", cv_scores)\n",
        "print(\"Average Accuracy:\", cv_scores.mean())\n"
      ],
      "metadata": {
        "id": "iaE6E1LMJlLL",
        "outputId": "6e2dcdce-228e-427d-f00f-b87dbfa8f871",
        "colab": {
          "base_uri": "https://localhost:8080/"
        }
      },
      "execution_count": null,
      "outputs": [
        {
          "output_type": "stream",
          "name": "stdout",
          "text": [
            "Cross-Validation Scores: [0.9  0.92 0.95 0.93 0.97]\n",
            "Average Accuracy: 0.9339999999999999\n"
          ]
        }
      ]
    },
    {
      "cell_type": "code",
      "source": [
        "#43 Train a Random Forest Classifier and plot the Precision-Recall curv\n",
        "\n",
        "import matplotlib.pyplot as plt\n",
        "from sklearn.ensemble import RandomForestClassifier\n",
        "from sklearn.datasets import make_classification\n",
        "from sklearn.model_selection import train_test_split\n",
        "from sklearn.metrics import precision_recall_curve\n",
        "\n",
        "# Generate synthetic dataset\n",
        "features, targets = make_classification(n_samples=500, n_features=6, random_state=42)\n",
        "\n",
        "# Split into training and testing sets\n",
        "features_train, features_test, targets_train, targets_test = train_test_split(\n",
        "    features, targets, test_size=0.2, random_state=42\n",
        ")\n",
        "\n",
        "# Train Random Forest classifier\n",
        "rf_classifier = RandomForestClassifier(n_estimators=20, random_state=42)\n",
        "rf_classifier.fit(features_train, targets_train)\n",
        "\n",
        "# Predict class probabilities for the test set\n",
        "predicted_probabilities = rf_classifier.predict_proba(features_test)[:, 1]\n",
        "\n",
        "# Compute Precision-Recall curve data\n",
        "precision_vals, recall_vals, _ = precision_recall_curve(targets_test, predicted_probabilities)\n",
        "\n",
        "# Plot Precision‑Recall curve\n",
        "plt.plot(recall_vals, precision_vals, marker='.')\n",
        "plt.xlabel(\"Recall\")\n",
        "plt.ylabel(\"Precision\")\n",
        "plt.title(\"Precision‑Recall Curve – Random Forest\")\n",
        "plt.show()\n"
      ],
      "metadata": {
        "id": "B-FWV7RgJlAQ",
        "outputId": "08dcf526-e889-45d3-e908-bb899228a3a4",
        "colab": {
          "base_uri": "https://localhost:8080/",
          "height": 472
        }
      },
      "execution_count": null,
      "outputs": [
        {
          "output_type": "display_data",
          "data": {
            "text/plain": [
              "<Figure size 640x480 with 1 Axes>"
            ],
            "image/png": "[encoded data removed]"
          },
          "metadata": {}
        }
      ]
    },
    {
      "cell_type": "code",
      "source": [
        "#44 Train a Stacking Classifier with Random Forest and Logistic Regression and compare accuracy\n",
        "\n",
        "from sklearn.ensemble import StackingClassifier, RandomForestClassifier\n",
        "from sklearn.linear_model import LogisticRegression\n",
        "from sklearn.datasets import make_classification\n",
        "from sklearn.model_selection import train_test_split\n",
        "from sklearn.metrics import accuracy_score\n",
        "\n",
        "# Generate synthetic dataset\n",
        "features, targets = make_classification(n_samples=500, n_features=6, random_state=42)\n",
        "\n",
        "# Split into training and testing sets\n",
        "features_train, features_test, targets_train, targets_test = train_test_split(\n",
        "    features, targets, test_size=0.2, random_state=42\n",
        ")\n",
        "\n",
        "# Define base estimator(s) for stacking\n",
        "base_estimators = [\n",
        "    ('random_forest', RandomForestClassifier(n_estimators=10, random_state=42))\n",
        "]\n",
        "\n",
        "# Define and train stacking classifier\n",
        "stacking_classifier = StackingClassifier(\n",
        "    estimators=base_estimators,\n",
        "    final_estimator=LogisticRegression()\n",
        ")\n",
        "stacking_classifier.fit(features_train, targets_train)\n",
        "\n",
        "# Predict and evaluate performance\n",
        "predictions = stacking_classifier.predict(features_test)\n",
        "print(\"Stacking Classifier Accuracy:\", accuracy_score(targets_test, predictions))\n"
      ],
      "metadata": {
        "id": "nIydOEdjJkxB",
        "outputId": "5dd139f6-6c79-4beb-b990-a4ebb0f150ea",
        "colab": {
          "base_uri": "https://localhost:8080/"
        }
      },
      "execution_count": null,
      "outputs": [
        {
          "output_type": "stream",
          "name": "stdout",
          "text": [
            "Stacking Classifier Accuracy: 0.91\n"
          ]
        }
      ]
    },
    {
      "cell_type": "code",
      "source": [
        "#45 Train a Bagging Regressor with different levels of bootstrap samples and compare performance\n",
        "\n",
        "from sklearn.ensemble import BaggingRegressor\n",
        "from sklearn.tree import DecisionTreeRegressor\n",
        "from sklearn.datasets import make_regression\n",
        "from sklearn.model_selection import train_test_split\n",
        "from sklearn.metrics import mean_squared_error\n",
        "\n",
        "# Generate synthetic regression dataset\n",
        "features, targets = make_regression(\n",
        "    n_samples=500, n_features=5, noise=0.3, random_state=42\n",
        ")\n",
        "\n",
        "# Split into training and testing sets\n",
        "features_train, features_test, targets_train, targets_test = train_test_split(\n",
        "    features, targets, test_size=0.2, random_state=42\n",
        ")\n",
        "\n",
        "# Train and compare Bagging Regressors with different max_samples ratios\n",
        "for max_samples in [0.5, 0.7, 1.0]:\n",
        "    bagging_regressor = BaggingRegressor(\n",
        "        estimator=DecisionTreeRegressor(),\n",
        "        n_estimators=10,\n",
        "        max_samples=max_samples,\n",
        "        random_state=42\n",
        "    )\n",
        "    bagging_regressor.fit(features_train, targets_train)\n",
        "    predictions = bagging_regressor.predict(features_test)\n",
        "\n",
        "    mse = mean_squared_error(targets_test, predictions)\n",
        "    print(f\"MSE with max_samples={max_samples}:\", mse)\n"
      ],
      "metadata": {
        "id": "wKqQTRhaJ8yV",
        "outputId": "2c029219-711a-424d-9030-d52efea58b4e",
        "colab": {
          "base_uri": "https://localhost:8080/"
        }
      },
      "execution_count": null,
      "outputs": [
        {
          "output_type": "stream",
          "name": "stdout",
          "text": [
            "MSE with max_samples=0.5: 1375.6392984171969\n",
            "MSE with max_samples=0.7: 1082.6526190159868\n",
            "MSE with max_samples=1.0: 1117.5481243394092\n"
          ]
        }
      ]
    },
    {
      "cell_type": "code",
      "source": [],
      "metadata": {
        "id": "Gz3i4pfzn6uI"
      },
      "execution_count": null,
      "outputs": []
    }
  ],
  "metadata": {
    "colab": {
      "provenance": []
    },
    "kernelspec": {
      "display_name": "Python 3",
      "name": "python3"
    }
  },
  "nbformat": 4,
  "nbformat_minor": 0
}